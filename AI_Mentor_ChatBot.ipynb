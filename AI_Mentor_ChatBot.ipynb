{
  "nbformat": 4,
  "nbformat_minor": 0,
  "metadata": {
    "colab": {
      "provenance": []
    },
    "kernelspec": {
      "name": "python3",
      "display_name": "Python 3"
    },
    "language_info": {
      "name": "python"
    }
  },
  "cells": [
    {
      "cell_type": "code",
      "execution_count": null,
      "metadata": {
        "id": "VhUScl-hvRrd",
        "colab": {
          "base_uri": "https://localhost:8080/",
          "height": 746
        },
        "outputId": "e360bed3-8efb-41a9-c2df-790e263996f0"
      },
      "outputs": [
        {
          "output_type": "stream",
          "name": "stdout",
          "text": [
            "Looking in indexes: https://pypi.org/simple, https://us-python.pkg.dev/colab-wheels/public/simple/\n",
            "Collecting openai\n",
            "  Downloading openai-0.27.2-py3-none-any.whl (70 kB)\n",
            "\u001b[2K     \u001b[90m━━━━━━━━━━━━━━━━━━━━━━━━━━━━━━━━━━━━━━━━\u001b[0m \u001b[32m70.1/70.1 KB\u001b[0m \u001b[31m2.2 MB/s\u001b[0m eta \u001b[36m0:00:00\u001b[0m\n",
            "\u001b[?25hRequirement already satisfied: requests in /usr/local/lib/python3.9/dist-packages (2.27.1)\n",
            "Collecting uuid\n",
            "  Downloading uuid-1.30.tar.gz (5.8 kB)\n",
            "  Preparing metadata (setup.py) ... \u001b[?25l\u001b[?25hdone\n",
            "Requirement already satisfied: tqdm in /usr/local/lib/python3.9/dist-packages (from openai) (4.65.0)\n",
            "Collecting aiohttp\n",
            "  Downloading aiohttp-3.8.4-cp39-cp39-manylinux_2_17_x86_64.manylinux2014_x86_64.whl (1.0 MB)\n",
            "\u001b[2K     \u001b[90m━━━━━━━━━━━━━━━━━━━━━━━━━━━━━━━━━━━━━━━━\u001b[0m \u001b[32m1.0/1.0 MB\u001b[0m \u001b[31m17.4 MB/s\u001b[0m eta \u001b[36m0:00:00\u001b[0m\n",
            "\u001b[?25hRequirement already satisfied: certifi>=2017.4.17 in /usr/local/lib/python3.9/dist-packages (from requests) (2022.12.7)\n",
            "Requirement already satisfied: charset-normalizer~=2.0.0 in /usr/local/lib/python3.9/dist-packages (from requests) (2.0.12)\n",
            "Requirement already satisfied: idna<4,>=2.5 in /usr/local/lib/python3.9/dist-packages (from requests) (3.4)\n",
            "Requirement already satisfied: urllib3<1.27,>=1.21.1 in /usr/local/lib/python3.9/dist-packages (from requests) (1.26.15)\n",
            "Requirement already satisfied: attrs>=17.3.0 in /usr/local/lib/python3.9/dist-packages (from aiohttp->openai) (22.2.0)\n",
            "Collecting aiosignal>=1.1.2\n",
            "  Downloading aiosignal-1.3.1-py3-none-any.whl (7.6 kB)\n",
            "Collecting yarl<2.0,>=1.0\n",
            "  Downloading yarl-1.8.2-cp39-cp39-manylinux_2_17_x86_64.manylinux2014_x86_64.whl (264 kB)\n",
            "\u001b[2K     \u001b[90m━━━━━━━━━━━━━━━━━━━━━━━━━━━━━━━━━━━━━━\u001b[0m \u001b[32m264.6/264.6 KB\u001b[0m \u001b[31m26.9 MB/s\u001b[0m eta \u001b[36m0:00:00\u001b[0m\n",
            "\u001b[?25hCollecting multidict<7.0,>=4.5\n",
            "  Downloading multidict-6.0.4-cp39-cp39-manylinux_2_17_x86_64.manylinux2014_x86_64.whl (114 kB)\n",
            "\u001b[2K     \u001b[90m━━━━━━━━━━━━━━━━━━━━━━━━━━━━━━━━━━━━━━\u001b[0m \u001b[32m114.2/114.2 KB\u001b[0m \u001b[31m13.6 MB/s\u001b[0m eta \u001b[36m0:00:00\u001b[0m\n",
            "\u001b[?25hCollecting async-timeout<5.0,>=4.0.0a3\n",
            "  Downloading async_timeout-4.0.2-py3-none-any.whl (5.8 kB)\n",
            "Collecting frozenlist>=1.1.1\n",
            "  Downloading frozenlist-1.3.3-cp39-cp39-manylinux_2_5_x86_64.manylinux1_x86_64.manylinux_2_17_x86_64.manylinux2014_x86_64.whl (158 kB)\n",
            "\u001b[2K     \u001b[90m━━━━━━━━━━━━━━━━━━━━━━━━━━━━━━━━━━━━━━\u001b[0m \u001b[32m158.8/158.8 KB\u001b[0m \u001b[31m19.4 MB/s\u001b[0m eta \u001b[36m0:00:00\u001b[0m\n",
            "\u001b[?25hBuilding wheels for collected packages: uuid\n",
            "  Building wheel for uuid (setup.py) ... \u001b[?25l\u001b[?25hdone\n",
            "  Created wheel for uuid: filename=uuid-1.30-py3-none-any.whl size=6502 sha256=90abd0cc45267caa1c1dd1f871d35be3acc7e6c3cd371d124618db4ed5708354\n",
            "  Stored in directory: /root/.cache/pip/wheels/05/d7/b4/4795d29c6decfffbf64c63e58b6c8b8bbfd4751488617dcd7a\n",
            "Successfully built uuid\n",
            "Installing collected packages: uuid, multidict, frozenlist, async-timeout, yarl, aiosignal, aiohttp, openai\n",
            "Successfully installed aiohttp-3.8.4 aiosignal-1.3.1 async-timeout-4.0.2 frozenlist-1.3.3 multidict-6.0.4 openai-0.27.2 uuid-1.30 yarl-1.8.2\n"
          ]
        },
        {
          "output_type": "display_data",
          "data": {
            "application/vnd.colab-display-data+json": {
              "pip_warning": {
                "packages": [
                  "uuid"
                ]
              }
            }
          },
          "metadata": {}
        }
      ],
      "source": [
        "!pip install openai requests uuid"
      ]
    },
    {
      "cell_type": "code",
      "source": [
        "import openai\n",
        "\n",
        "# Initialize the OpenAI API key\n",
        "openai.api_key = \"<OPENAI_API_KEY>\"\n",
        "\n",
        "# Define a function to handle the chatbot response\n",
        "def chatbot_response(prompt):\n",
        "    completions = openai.Completion.create(\n",
        "        engine=\"text-davinci-002\",\n",
        "        prompt=prompt,\n",
        "        max_tokens=1024,\n",
        "        n=1,\n",
        "        stop=None,\n",
        "        temperature=0.5,\n",
        "    )\n",
        "\n",
        "    message = completions.choices[0].text\n",
        "    return message\n",
        "\n",
        "# Main function\n",
        "if __name__ == \"__main__\":\n",
        "    while True:\n",
        "        user_input = input(\"You: \")\n",
        "        response = chatbot_response(user_input)\n",
        "        print(\"Chatbot: \", response)\n"
      ],
      "metadata": {
        "id": "oVcKlSQWvX9s",
        "colab": {
          "base_uri": "https://localhost:8080/",
          "height": 589
        },
        "outputId": "59881802-6b58-42b0-ebf0-c1fc39f0dbe1"
      },
      "execution_count": null,
      "outputs": [
        {
          "output_type": "stream",
          "name": "stdout",
          "text": [
            "You: How to improve grocery business in rural areas?\n",
            "Chatbot:  \n",
            "\n",
            "There are a number of ways to improve grocery business in rural areas:\n",
            "\n",
            "-Increase marketing and advertising efforts in order to reach more potential customers in rural areas.\n",
            "\n",
            "-Develop new and innovative products and services that appeal to rural consumers.\n",
            "\n",
            "-Expand the delivery area for groceries in order to reach more rural areas.\n",
            "\n",
            "-Increase the number of locations in rural areas in order to make it more convenient for consumers.\n"
          ]
        },
        {
          "output_type": "error",
          "ename": "KeyboardInterrupt",
          "evalue": "ignored",
          "traceback": [
            "\u001b[0;31m---------------------------------------------------------------------------\u001b[0m",
            "\u001b[0;31mKeyboardInterrupt\u001b[0m                         Traceback (most recent call last)",
            "\u001b[0;32m<ipython-input-5-28eed0ace01c>\u001b[0m in \u001b[0;36m<module>\u001b[0;34m\u001b[0m\n\u001b[1;32m     21\u001b[0m \u001b[0;32mif\u001b[0m \u001b[0m__name__\u001b[0m \u001b[0;34m==\u001b[0m \u001b[0;34m\"__main__\"\u001b[0m\u001b[0;34m:\u001b[0m\u001b[0;34m\u001b[0m\u001b[0;34m\u001b[0m\u001b[0m\n\u001b[1;32m     22\u001b[0m     \u001b[0;32mwhile\u001b[0m \u001b[0;32mTrue\u001b[0m\u001b[0;34m:\u001b[0m\u001b[0;34m\u001b[0m\u001b[0;34m\u001b[0m\u001b[0m\n\u001b[0;32m---> 23\u001b[0;31m         \u001b[0muser_input\u001b[0m \u001b[0;34m=\u001b[0m \u001b[0minput\u001b[0m\u001b[0;34m(\u001b[0m\u001b[0;34m\"You: \"\u001b[0m\u001b[0;34m)\u001b[0m\u001b[0;34m\u001b[0m\u001b[0;34m\u001b[0m\u001b[0m\n\u001b[0m\u001b[1;32m     24\u001b[0m         \u001b[0mresponse\u001b[0m \u001b[0;34m=\u001b[0m \u001b[0mchatbot_response\u001b[0m\u001b[0;34m(\u001b[0m\u001b[0muser_input\u001b[0m\u001b[0;34m)\u001b[0m\u001b[0;34m\u001b[0m\u001b[0;34m\u001b[0m\u001b[0m\n\u001b[1;32m     25\u001b[0m         \u001b[0mprint\u001b[0m\u001b[0;34m(\u001b[0m\u001b[0;34m\"Chatbot: \"\u001b[0m\u001b[0;34m,\u001b[0m \u001b[0mresponse\u001b[0m\u001b[0;34m)\u001b[0m\u001b[0;34m\u001b[0m\u001b[0;34m\u001b[0m\u001b[0m\n",
            "\u001b[0;32m/usr/local/lib/python3.9/dist-packages/ipykernel/kernelbase.py\u001b[0m in \u001b[0;36mraw_input\u001b[0;34m(self, prompt)\u001b[0m\n\u001b[1;32m    858\u001b[0m                 \u001b[0;34m\"raw_input was called, but this frontend does not support input requests.\"\u001b[0m\u001b[0;34m\u001b[0m\u001b[0;34m\u001b[0m\u001b[0m\n\u001b[1;32m    859\u001b[0m             )\n\u001b[0;32m--> 860\u001b[0;31m         return self._input_request(str(prompt),\n\u001b[0m\u001b[1;32m    861\u001b[0m             \u001b[0mself\u001b[0m\u001b[0;34m.\u001b[0m\u001b[0m_parent_ident\u001b[0m\u001b[0;34m,\u001b[0m\u001b[0;34m\u001b[0m\u001b[0;34m\u001b[0m\u001b[0m\n\u001b[1;32m    862\u001b[0m             \u001b[0mself\u001b[0m\u001b[0;34m.\u001b[0m\u001b[0m_parent_header\u001b[0m\u001b[0;34m,\u001b[0m\u001b[0;34m\u001b[0m\u001b[0;34m\u001b[0m\u001b[0m\n",
            "\u001b[0;32m/usr/local/lib/python3.9/dist-packages/ipykernel/kernelbase.py\u001b[0m in \u001b[0;36m_input_request\u001b[0;34m(self, prompt, ident, parent, password)\u001b[0m\n\u001b[1;32m    902\u001b[0m             \u001b[0;32mexcept\u001b[0m \u001b[0mKeyboardInterrupt\u001b[0m\u001b[0;34m:\u001b[0m\u001b[0;34m\u001b[0m\u001b[0;34m\u001b[0m\u001b[0m\n\u001b[1;32m    903\u001b[0m                 \u001b[0;31m# re-raise KeyboardInterrupt, to truncate traceback\u001b[0m\u001b[0;34m\u001b[0m\u001b[0;34m\u001b[0m\u001b[0m\n\u001b[0;32m--> 904\u001b[0;31m                 \u001b[0;32mraise\u001b[0m \u001b[0mKeyboardInterrupt\u001b[0m\u001b[0;34m(\u001b[0m\u001b[0;34m\"Interrupted by user\"\u001b[0m\u001b[0;34m)\u001b[0m \u001b[0;32mfrom\u001b[0m \u001b[0;32mNone\u001b[0m\u001b[0;34m\u001b[0m\u001b[0;34m\u001b[0m\u001b[0m\n\u001b[0m\u001b[1;32m    905\u001b[0m             \u001b[0;32mexcept\u001b[0m \u001b[0mException\u001b[0m \u001b[0;32mas\u001b[0m \u001b[0me\u001b[0m\u001b[0;34m:\u001b[0m\u001b[0;34m\u001b[0m\u001b[0;34m\u001b[0m\u001b[0m\n\u001b[1;32m    906\u001b[0m                 \u001b[0mself\u001b[0m\u001b[0;34m.\u001b[0m\u001b[0mlog\u001b[0m\u001b[0;34m.\u001b[0m\u001b[0mwarning\u001b[0m\u001b[0;34m(\u001b[0m\u001b[0;34m\"Invalid Message:\"\u001b[0m\u001b[0;34m,\u001b[0m \u001b[0mexc_info\u001b[0m\u001b[0;34m=\u001b[0m\u001b[0;32mTrue\u001b[0m\u001b[0;34m)\u001b[0m\u001b[0;34m\u001b[0m\u001b[0;34m\u001b[0m\u001b[0m\n",
            "\u001b[0;31mKeyboardInterrupt\u001b[0m: Interrupted by user"
          ]
        }
      ]
    },
    {
      "cell_type": "code",
      "source": [
        "import openai\n",
        "\n",
        "# Initialize the OpenAI API key\n",
        "openai.api_key = \"<OPENAI_API_KEY\"\n",
        "\n",
        "# Define a function to handle the chatbot response\n",
        "def chatbot_response(prompt):\n",
        "    try:\n",
        "        completions = openai.Completion.create(\n",
        "            engine=\"text-davinci-002\",\n",
        "            prompt=prompt,\n",
        "            max_tokens=1024,\n",
        "            n=1,\n",
        "            stop=None,\n",
        "            temperature=0.5,\n",
        "        )\n",
        "    except Exception as e:\n",
        "        print(f\"Error: {e}\")\n",
        "        return \"Sorry, I couldn't process your request.\"\n",
        "\n",
        "    message = completions.choices[0].text\n",
        "    return message\n",
        "\n",
        "# Main function\n",
        "if __name__ == \"__main__\":\n",
        "    while True:\n",
        "        user_input = input(\"You: \")\n",
        "        if not user_input:\n",
        "            print(\"Please provide valid input.\")\n",
        "            continue\n",
        "        response = chatbot_response(user_input)\n",
        "        print(\"Chatbot: \", response)\n"
      ],
      "metadata": {
        "id": "0QYMCIdb_88Q"
      },
      "execution_count": null,
      "outputs": []
    },
    {
      "cell_type": "code",
      "source": [
        "import requests\n",
        "import uuid\n",
        "import json\n",
        "import openai\n",
        "\n",
        "# Add your Microsoft Translator API key, endpoint, and location\n",
        "key = \"<AZURE_COGNITIVE_SERVICES_TRANSLATOR_API\"\n",
        "endpoint = \"https://api.cognitive.microsofttranslator.com/\"\n",
        "location = \"<AZURE_REGION\"\n",
        "\n",
        "# Set up translation parameters\n",
        "params = {\n",
        "    'api-version': '3.0',\n",
        "    'from': 'en',\n",
        "    'to': 'hi'\n",
        "}\n",
        "\n",
        "# Set up Microsoft Translator API headers\n",
        "headers = {\n",
        "    'Ocp-Apim-Subscription-Key': key,\n",
        "    'Ocp-Apim-Subscription-Region': location,\n",
        "    'Content-type': 'application/json',\n",
        "    'X-ClientTraceId': str(uuid.uuid4())\n",
        "}\n",
        "\n",
        "# Get user input in Hinglish\n",
        "user_input = input(\"Enter your message in Hinglish: \")\n",
        "\n",
        "# Translate Hinglish to Hindi\n",
        "body = [{\n",
        "    'text': user_input\n",
        "}]\n",
        "\n",
        "constructed_url = endpoint + '/translate'\n",
        "response = requests.post(constructed_url, params=params, headers=headers, json=body)\n",
        "translation = response.json()[0]['translations'][0]['text']\n",
        "\n",
        "# print(f\"Hindi translation: {translation}\")\n",
        "\n",
        "# Convert Hindi to English\n",
        "params['from'] = 'hi'\n",
        "params['to'] = 'en'\n",
        "body = [{'text': translation}]\n",
        "response = requests.post(constructed_url, params=params, headers=headers, json=body)\n",
        "translation = response.json()[0]['translations'][0]['text']\n",
        "\n",
        "# print(f\"English translation: {translation}\")\n",
        "\n",
        "# Set up OpenAI API key\n",
        "openai.api_key = \"<OPENAI_API_KEY\"\n",
        "\n",
        "# Generate response from ChatGPT\n",
        "prompt = translation\n",
        "model = \"text-davinci-002\"\n",
        "temperature = 0.7\n",
        "max_tokens = 50\n",
        "chatgpt_response = openai.Completion.create(engine=model, prompt=prompt, temperature=temperature, max_tokens=max_tokens)\n",
        "\n",
        "# Extract the response text from ChatGPT\n",
        "response_text = chatgpt_response.choices[0].text\n",
        "\n",
        "# Translate response text back to Hindi\n",
        "params['from'] = 'en'\n",
        "params['to'] = 'hi'\n",
        "body = [{'text': response_text}]\n",
        "response = requests.post(constructed_url, params=params, headers=headers, json=body)\n",
        "translation = response.json()[0]['translations'][0]['text']\n",
        "\n",
        "print(f\"Hindi response: {translation}\")"
      ],
      "metadata": {
        "colab": {
          "base_uri": "https://localhost:8080/"
        },
        "id": "4VsJqKU_TyCH",
        "outputId": "0bedced4-8a93-4f9f-f6b8-5c64be7930cb"
      },
      "execution_count": null,
      "outputs": [
        {
          "output_type": "stream",
          "name": "stdout",
          "text": [
            "Enter your message in Hinglish: gaon aur sahar me byapar ka prachar karne ke upay batae\n",
            "Hindi response: \n",
            "साक्षरता को बढ़ावा देना\n",
            "\n",
            "कंप्यूटर प्रशिक्षण प्रदान करने के लिए\n",
            "\n",
            "स्वास्थ्य को बढ़ावा देने के लिए\n",
            "\n",
            "चिकित्सा सहायता प्रदान करना\n",
            "\n",
            "युवाओं को रोजगार उपलब्ध कराना\n",
            "\n",
            "कृषि में सहायता प्रदान करना\n",
            "\n",
            "बच्चों की प्रतिभा और कौशल को बढ़ावा देना\n",
            "\n",
            "सहायता प्रदान करना\n"
          ]
        }
      ]
    },
    {
      "cell_type": "markdown",
      "source": [],
      "metadata": {
        "id": "VxKuE_7KoAln"
      }
    },
    {
      "cell_type": "code",
      "source": [
        "!pip install googletrans==4.0.0-rc1\n"
      ],
      "metadata": {
        "colab": {
          "base_uri": "https://localhost:8080/",
          "height": 975
        },
        "id": "hpvSiUCSiUn9",
        "outputId": "d7fd2b0b-b369-41d4-a526-219964ef7d8a"
      },
      "execution_count": null,
      "outputs": [
        {
          "output_type": "stream",
          "name": "stdout",
          "text": [
            "Looking in indexes: https://pypi.org/simple, https://us-python.pkg.dev/colab-wheels/public/simple/\n",
            "Collecting googletrans==4.0.0-rc1\n",
            "  Downloading googletrans-4.0.0rc1.tar.gz (20 kB)\n",
            "  Preparing metadata (setup.py) ... \u001b[?25l\u001b[?25hdone\n",
            "Collecting httpx==0.13.3\n",
            "  Downloading httpx-0.13.3-py3-none-any.whl (55 kB)\n",
            "\u001b[2K     \u001b[90m━━━━━━━━━━━━━━━━━━━━━━━━━━━━━━━━━━━━━━━━\u001b[0m \u001b[32m55.1/55.1 KB\u001b[0m \u001b[31m3.3 MB/s\u001b[0m eta \u001b[36m0:00:00\u001b[0m\n",
            "\u001b[?25hRequirement already satisfied: certifi in /usr/local/lib/python3.9/dist-packages (from httpx==0.13.3->googletrans==4.0.0-rc1) (2022.12.7)\n",
            "Collecting idna==2.*\n",
            "  Downloading idna-2.10-py2.py3-none-any.whl (58 kB)\n",
            "\u001b[2K     \u001b[90m━━━━━━━━━━━━━━━━━━━━━━━━━━━━━━━━━━━━━━━━\u001b[0m \u001b[32m58.8/58.8 KB\u001b[0m \u001b[31m6.8 MB/s\u001b[0m eta \u001b[36m0:00:00\u001b[0m\n",
            "\u001b[?25hCollecting hstspreload\n",
            "  Downloading hstspreload-2023.1.1-py3-none-any.whl (1.5 MB)\n",
            "\u001b[2K     \u001b[90m━━━━━━━━━━━━━━━━━━━━━━━━━━━━━━━━━━━━━━━━\u001b[0m \u001b[32m1.5/1.5 MB\u001b[0m \u001b[31m24.8 MB/s\u001b[0m eta \u001b[36m0:00:00\u001b[0m\n",
            "\u001b[?25hCollecting chardet==3.*\n",
            "  Downloading chardet-3.0.4-py2.py3-none-any.whl (133 kB)\n",
            "\u001b[2K     \u001b[90m━━━━━━━━━━━━━━━━━━━━━━━━━━━━━━━━━━━━━━\u001b[0m \u001b[32m133.4/133.4 KB\u001b[0m \u001b[31m12.5 MB/s\u001b[0m eta \u001b[36m0:00:00\u001b[0m\n",
            "\u001b[?25hCollecting httpcore==0.9.*\n",
            "  Downloading httpcore-0.9.1-py3-none-any.whl (42 kB)\n",
            "\u001b[2K     \u001b[90m━━━━━━━━━━━━━━━━━━━━━━━━━━━━━━━━━━━━━━━━\u001b[0m \u001b[32m42.6/42.6 KB\u001b[0m \u001b[31m5.5 MB/s\u001b[0m eta \u001b[36m0:00:00\u001b[0m\n",
            "\u001b[?25hCollecting sniffio\n",
            "  Downloading sniffio-1.3.0-py3-none-any.whl (10 kB)\n",
            "Collecting rfc3986<2,>=1.3\n",
            "  Downloading rfc3986-1.5.0-py2.py3-none-any.whl (31 kB)\n",
            "Collecting h11<0.10,>=0.8\n",
            "  Downloading h11-0.9.0-py2.py3-none-any.whl (53 kB)\n",
            "\u001b[2K     \u001b[90m━━━━━━━━━━━━━━━━━━━━━━━━━━━━━━━━━━━━━━━━\u001b[0m \u001b[32m53.6/53.6 KB\u001b[0m \u001b[31m7.1 MB/s\u001b[0m eta \u001b[36m0:00:00\u001b[0m\n",
            "\u001b[?25hCollecting h2==3.*\n",
            "  Downloading h2-3.2.0-py2.py3-none-any.whl (65 kB)\n",
            "\u001b[2K     \u001b[90m━━━━━━━━━━━━━━━━━━━━━━━━━━━━━━━━━━━━━━━━\u001b[0m \u001b[32m65.0/65.0 KB\u001b[0m \u001b[31m7.4 MB/s\u001b[0m eta \u001b[36m0:00:00\u001b[0m\n",
            "\u001b[?25hCollecting hyperframe<6,>=5.2.0\n",
            "  Downloading hyperframe-5.2.0-py2.py3-none-any.whl (12 kB)\n",
            "Collecting hpack<4,>=3.0\n",
            "  Downloading hpack-3.0.0-py2.py3-none-any.whl (38 kB)\n",
            "Building wheels for collected packages: googletrans\n",
            "  Building wheel for googletrans (setup.py) ... \u001b[?25l\u001b[?25hdone\n",
            "  Created wheel for googletrans: filename=googletrans-4.0.0rc1-py3-none-any.whl size=17413 sha256=951b0ab630a039afc536353e23571061d53f0f6f1a3ed4db8102d4ae2140ab5b\n",
            "  Stored in directory: /root/.cache/pip/wheels/60/b3/27/d8aff3e2d5c2d0d97a117cdf0d5f13cd121e2c2b5fb49b55a0\n",
            "Successfully built googletrans\n",
            "Installing collected packages: rfc3986, hyperframe, hpack, h11, chardet, sniffio, idna, hstspreload, h2, httpcore, httpx, googletrans\n",
            "  Attempting uninstall: chardet\n",
            "    Found existing installation: chardet 4.0.0\n",
            "    Uninstalling chardet-4.0.0:\n",
            "      Successfully uninstalled chardet-4.0.0\n",
            "  Attempting uninstall: idna\n",
            "    Found existing installation: idna 3.4\n",
            "    Uninstalling idna-3.4:\n",
            "      Successfully uninstalled idna-3.4\n",
            "Successfully installed chardet-3.0.4 googletrans-4.0.0rc1 h11-0.9.0 h2-3.2.0 hpack-3.0.0 hstspreload-2023.1.1 httpcore-0.9.1 httpx-0.13.3 hyperframe-5.2.0 idna-2.10 rfc3986-1.5.0 sniffio-1.3.0\n"
          ]
        },
        {
          "output_type": "display_data",
          "data": {
            "application/vnd.colab-display-data+json": {
              "pip_warning": {
                "packages": [
                  "chardet",
                  "idna"
                ]
              }
            }
          },
          "metadata": {}
        }
      ]
    },
    {
      "cell_type": "code",
      "source": [
        "!git clone https://github.com/libindic/indic-trans.git\n",
        "%cd indic-trans\n",
        "!pip install -e .\n"
      ],
      "metadata": {
        "colab": {
          "base_uri": "https://localhost:8080/"
        },
        "id": "S8yCg9cQiauK",
        "outputId": "7ef10f90-453c-42e3-f065-fdef48ff5b51"
      },
      "execution_count": null,
      "outputs": [
        {
          "output_type": "stream",
          "name": "stdout",
          "text": [
            "Cloning into 'indic-trans'...\n",
            "remote: Enumerating objects: 2225, done.\u001b[K\n",
            "remote: Counting objects: 100% (19/19), done.\u001b[K\n",
            "remote: Compressing objects: 100% (16/16), done.\u001b[K\n",
            "remote: Total 2225 (delta 8), reused 10 (delta 3), pack-reused 2206\u001b[K\n",
            "Receiving objects: 100% (2225/2225), 516.51 MiB | 21.02 MiB/s, done.\n",
            "Resolving deltas: 100% (1102/1102), done.\n",
            "Updating files: 100% (719/719), done.\n",
            "/content/indic-trans\n",
            "Looking in indexes: https://pypi.org/simple, https://us-python.pkg.dev/colab-wheels/public/simple/\n",
            "Obtaining file:///content/indic-trans\n",
            "  Installing build dependencies ... \u001b[?25l\u001b[?25hdone\n",
            "  Checking if build backend supports build_editable ... \u001b[?25l\u001b[?25hdone\n",
            "  Getting requirements to build editable ... \u001b[?25l\u001b[?25hdone\n",
            "  Installing backend dependencies ... \u001b[?25l\u001b[?25hdone\n",
            "  Preparing editable metadata (pyproject.toml) ... \u001b[?25l\u001b[?25hdone\n",
            "Requirement already satisfied: six in /usr/local/lib/python3.9/dist-packages (from indictrans==1.2.3) (1.16.0)\n",
            "Collecting pbr\n",
            "  Using cached pbr-5.11.1-py2.py3-none-any.whl (112 kB)\n",
            "Requirement already satisfied: future in /usr/local/lib/python3.9/dist-packages (from indictrans==1.2.3) (0.18.3)\n",
            "Requirement already satisfied: numpy>=1.10.4 in /usr/local/lib/python3.9/dist-packages (from indictrans==1.2.3) (1.22.4)\n",
            "Requirement already satisfied: scipy>=0.13.3 in /usr/local/lib/python3.9/dist-packages (from indictrans==1.2.3) (1.10.1)\n",
            "Requirement already satisfied: cython>=0.24.0a0 in /usr/local/lib/python3.9/dist-packages (from indictrans==1.2.3) (0.29.33)\n",
            "Building wheels for collected packages: indictrans\n",
            "  Building editable for indictrans (pyproject.toml) ... \u001b[?25l\u001b[?25hdone\n",
            "  Created wheel for indictrans: filename=indictrans-1.2.3-0.editable-cp39-cp39-linux_x86_64.whl size=18347 sha256=4a3244897f5e367ae97110b91d4df0550ad36bd314739b5011caec048ad1e98f\n",
            "  Stored in directory: /tmp/pip-ephem-wheel-cache-dtrq4cit/wheels/9d/f9/1c/3179925fa34b8745a9e662e917493fa0ccadca5ae0c59a1f52\n",
            "Successfully built indictrans\n",
            "Installing collected packages: pbr, indictrans\n",
            "Successfully installed indictrans-1.2.3 pbr-5.11.1\n"
          ]
        }
      ]
    },
    {
      "cell_type": "code",
      "source": [
        "from googletrans import Translator\n",
        "from indictrans import Transliterator\n",
        "import openai\n",
        "\n",
        "# Initialize the OpenAI API key\n",
        "openai.api_key = \"<OPEN_AI_API_KEY\"\n",
        "\n",
        "# Define a function to handle the chatbot response\n",
        "def chatbot_response(prompt):\n",
        "    completions = openai.Completion.create(\n",
        "        engine=\"text-davinci-003\",\n",
        "        prompt=prompt,\n",
        "        max_tokens=1024,\n",
        "        n=1,\n",
        "        stop=None,\n",
        "        temperature=0.5,\n",
        "    )\n",
        "\n",
        "    message = completions.choices[0].text\n",
        "    return message\n",
        "\n",
        "# Main function\n",
        "if __name__ == \"__main__\":\n",
        "    while True:\n",
        "        # Take Hinglish query input from user\n",
        "        user_input = input(\"Enter your query in Hinglish: \")\n",
        "\n",
        "        # Convert Hinglish to Hindi\n",
        "        hindi_text = Transliterator(source='eng', target='hin').transform(user_input)\n",
        "\n",
        "        # Convert Hindi to English\n",
        "        english_text = Translator().translate(hindi_text, dest='en').text\n",
        "\n",
        "        # Ask the OpenAI API\n",
        "        response = chatbot_response(english_text)\n",
        "\n",
        "        # Output English response\n",
        "        print(\"Chatbot (English): \", response)\n",
        "\n",
        "        # Convert OpenAI API response to Hindi\n",
        "        hindi_response = Translator().translate(response, dest='hi').text\n",
        "\n",
        "        # Convert Hindi response to Hinglish\n",
        "        hinglish_response = Transliterator(source='hin', target='eng').transform(hindi_response)\n",
        "\n",
        "        # Output Hinglish response\n",
        "        print(\"Chatbot (Hinglish): \", hinglish_response)\n"
      ],
      "metadata": {
        "colab": {
          "base_uri": "https://localhost:8080/",
          "height": 1000
        },
        "id": "cG0NWOT7hziq",
        "outputId": "f83bd8bd-1461-424a-b46d-950aeb80bfff"
      },
      "execution_count": null,
      "outputs": [
        {
          "output_type": "stream",
          "name": "stdout",
          "text": [
            "Enter your query in Hinglish: mujhe mere grocery dukaan ko aur acha karna he. mera dukaan ek gaon ke beech he, jahan log bibhinn prakar ke samaan kharid ne mere dukaan ate he. iske madat se me mere dhande ko aur labhdayak kese kar sakta hun?\n",
            "Chatbot (English):  \n",
            "\n",
            "There are several ways to make your grocery shop more attractive and to draw more customers. \n",
            "\n",
            "1. Offer discounts and promotions. Offering discounts and promotions can help to draw more customers and encourage them to buy more items. You could offer discounts on certain items, or offer a loyalty program for frequent shoppers. \n",
            "\n",
            "2. Make sure your shop is well-stocked. Make sure your shop is always well-stocked with the items customers are looking for. If you don't have what they need, they may go elsewhere. \n",
            "\n",
            "3. Offer a wide selection of items. Make sure you have a wide selection of items in your shop, so customers can find what they need. You could also offer a variety of specialty items that customers may not be able to find elsewhere. \n",
            "\n",
            "4. Advertise your shop. Advertise your shop in local newspapers, on the radio, or on social media. This can help to draw more customers to your shop. \n",
            "\n",
            "5. Make sure your shop is clean and inviting. Make sure your shop is always clean and inviting. This can make customers feel more comfortable when they come to your shop. \n",
            "\n",
            "6. Offer customer service. Make sure your staff is friendly and helpful. Customers should feel like they can ask questions and get help when they need it. \n",
            "\n",
            "7. Make sure your shop is easy to find. Make sure your shop is easy to find and that it's clearly marked. This will make it easier for customers to find you. \n",
            "\n",
            "By taking these steps, you can make your grocery shop more attractive and draw more customers.\n",
            "Chatbot (Hinglish):  apni kiraane kii dukaan ko adhik aakarshak banane or adhik graahakon ko aakarshith karne ke kai tareeke hai.\n",
            "\n",
            "1. chhot or prachaar kii peshkash karen.chhot or prachaar kii peshkash karne se adhik graahakon ko aakarshith karne or unhen adhik item kharidne ke liye protsaahit karne main madad mil sakati he.aap kuch vastuon par chhot pradaan kar sakate hai, yaa lagaataar dukandaaron ke liye ek vafadari kaarykram kii peshkash kar sakate hai.\n",
            "\n",
            "2. sunishchit karen ki aapaki dukaan acchhee tarah se stock kii gai he.sunishchit karen ki aapaki dukaan hameshaa un vastuon ke saath acchhee tarah se stock kii jaati he jo graahakon kii talash kar rahe hai.yadi aapke paas unki aavashyaktaa nahin he, to ve kahin or ja sakate hai.\n",
            "\n",
            "3. vastuon kii ek vistrut chayan kii peshkash karen.sunishchit karen ki aapaki dukaan main vastuon kaa ek vistrut chayan he, taaki graahak paa saken ki unhen kya chahie.aap vibhinn prakaar kii vishesh vastuon kii peshkash bhi kar sakate hai jo graahak kahin or nahin khoj sakate hai.\n",
            "\n",
            "4. apni dukaan kaa vigyaapan karen.sthaneey samachar patron main, radio par yaa soshal media par apni dukaan kaa vigyaapan karen.yah aapaki dukaan par adhik graahakon ko aakarshith karne main madad kar saktaa he.\n",
            "\n",
            "5. sunishchit karen ki aapaki dukaan saaf or aamantrit he.sunishchit karen ki aapaki dukaan hameshaa saaf or aamantrit hoti he.yah graahakon ko aapaki dukaan par aane par adhik aaramdaayak mahasoos kar saktaa he.\n",
            "\n",
            "6. graahak seva kii peshkash karen.sunishchit karen ki aapkaa karmchaaree dostana or madadgaar he.graahakon ko yah mahasoos karnaa chahie ki ve sawaal puch sakate hai or jab unhen isaki aavashyaktaa ho to madad mil sakati he.\n",
            "\n",
            "7. sunishchit karen ki aapaki dukaan ko dhundhna aasaan he.sunishchit karen ki aapaki dukaan ko dhundhna aasaan he or yah spasht rup se chihnit he.isse graahakon ko aapako dhundhna aasaan ho jayega.\n",
            "\n",
            "in charnon ko uthaakar, aap apni kiraane kii dukaan ko adhik aakarshak bana sakate hai or adhik graahakon ko aakarshith kar sakate hai.\n",
            "Enter your query in Hinglish: online marketing karne se kuch madat ho sakta he kya?\n",
            "Chatbot (English):  \n",
            "\n",
            "Yes, there can be drivers who do online marketing. Online marketing is a great way to reach potential customers and build an audience. Digital marketing can be used to promote products, services, and businesses, as well as drive traffic to websites. Additionally, many companies are now using online marketing to reach out to potential drivers and recruit them.\n",
            "Chatbot (Hinglish):  haa, aise driver ho sakate hai jo online marketing karte hai.online marketing sambhavit graahakon tak pahunchane or darshakon ke nirmaan kaa ek shandaar tarika he.digital marketing kaa upyog utpaadon, sevaaon or vyavsaayon ko badhaava dene ke liye kiya ja saktaa he, saath hi websiton par trekkic bhi chalaaya ja saktaa he.iske atirikt, kai companiyaan ab sambhavit driveron tak pahunchane or unhen bhartee karne ke liye online marketing kaa upyog kar rahi hai.\n"
          ]
        },
        {
          "output_type": "error",
          "ename": "KeyboardInterrupt",
          "evalue": "ignored",
          "traceback": [
            "\u001b[0;31m---------------------------------------------------------------------------\u001b[0m",
            "\u001b[0;31mKeyboardInterrupt\u001b[0m                         Traceback (most recent call last)",
            "\u001b[0;32m<ipython-input-14-d92562d20519>\u001b[0m in \u001b[0;36m<module>\u001b[0;34m\u001b[0m\n\u001b[1;32m     24\u001b[0m     \u001b[0;32mwhile\u001b[0m \u001b[0;32mTrue\u001b[0m\u001b[0;34m:\u001b[0m\u001b[0;34m\u001b[0m\u001b[0;34m\u001b[0m\u001b[0m\n\u001b[1;32m     25\u001b[0m         \u001b[0;31m# Take Hinglish query input from user\u001b[0m\u001b[0;34m\u001b[0m\u001b[0;34m\u001b[0m\u001b[0m\n\u001b[0;32m---> 26\u001b[0;31m         \u001b[0muser_input\u001b[0m \u001b[0;34m=\u001b[0m \u001b[0minput\u001b[0m\u001b[0;34m(\u001b[0m\u001b[0;34m\"Enter your query in Hinglish: \"\u001b[0m\u001b[0;34m)\u001b[0m\u001b[0;34m\u001b[0m\u001b[0;34m\u001b[0m\u001b[0m\n\u001b[0m\u001b[1;32m     27\u001b[0m \u001b[0;34m\u001b[0m\u001b[0m\n\u001b[1;32m     28\u001b[0m         \u001b[0;31m# Convert Hinglish to Hindi\u001b[0m\u001b[0;34m\u001b[0m\u001b[0;34m\u001b[0m\u001b[0m\n",
            "\u001b[0;32m/usr/local/lib/python3.9/dist-packages/ipykernel/kernelbase.py\u001b[0m in \u001b[0;36mraw_input\u001b[0;34m(self, prompt)\u001b[0m\n\u001b[1;32m    858\u001b[0m                 \u001b[0;34m\"raw_input was called, but this frontend does not support input requests.\"\u001b[0m\u001b[0;34m\u001b[0m\u001b[0;34m\u001b[0m\u001b[0m\n\u001b[1;32m    859\u001b[0m             )\n\u001b[0;32m--> 860\u001b[0;31m         return self._input_request(str(prompt),\n\u001b[0m\u001b[1;32m    861\u001b[0m             \u001b[0mself\u001b[0m\u001b[0;34m.\u001b[0m\u001b[0m_parent_ident\u001b[0m\u001b[0;34m,\u001b[0m\u001b[0;34m\u001b[0m\u001b[0;34m\u001b[0m\u001b[0m\n\u001b[1;32m    862\u001b[0m             \u001b[0mself\u001b[0m\u001b[0;34m.\u001b[0m\u001b[0m_parent_header\u001b[0m\u001b[0;34m,\u001b[0m\u001b[0;34m\u001b[0m\u001b[0;34m\u001b[0m\u001b[0m\n",
            "\u001b[0;32m/usr/local/lib/python3.9/dist-packages/ipykernel/kernelbase.py\u001b[0m in \u001b[0;36m_input_request\u001b[0;34m(self, prompt, ident, parent, password)\u001b[0m\n\u001b[1;32m    902\u001b[0m             \u001b[0;32mexcept\u001b[0m \u001b[0mKeyboardInterrupt\u001b[0m\u001b[0;34m:\u001b[0m\u001b[0;34m\u001b[0m\u001b[0;34m\u001b[0m\u001b[0m\n\u001b[1;32m    903\u001b[0m                 \u001b[0;31m# re-raise KeyboardInterrupt, to truncate traceback\u001b[0m\u001b[0;34m\u001b[0m\u001b[0;34m\u001b[0m\u001b[0m\n\u001b[0;32m--> 904\u001b[0;31m                 \u001b[0;32mraise\u001b[0m \u001b[0mKeyboardInterrupt\u001b[0m\u001b[0;34m(\u001b[0m\u001b[0;34m\"Interrupted by user\"\u001b[0m\u001b[0;34m)\u001b[0m \u001b[0;32mfrom\u001b[0m \u001b[0;32mNone\u001b[0m\u001b[0;34m\u001b[0m\u001b[0;34m\u001b[0m\u001b[0m\n\u001b[0m\u001b[1;32m    905\u001b[0m             \u001b[0;32mexcept\u001b[0m \u001b[0mException\u001b[0m \u001b[0;32mas\u001b[0m \u001b[0me\u001b[0m\u001b[0;34m:\u001b[0m\u001b[0;34m\u001b[0m\u001b[0;34m\u001b[0m\u001b[0m\n\u001b[1;32m    906\u001b[0m                 \u001b[0mself\u001b[0m\u001b[0;34m.\u001b[0m\u001b[0mlog\u001b[0m\u001b[0;34m.\u001b[0m\u001b[0mwarning\u001b[0m\u001b[0;34m(\u001b[0m\u001b[0;34m\"Invalid Message:\"\u001b[0m\u001b[0;34m,\u001b[0m \u001b[0mexc_info\u001b[0m\u001b[0;34m=\u001b[0m\u001b[0;32mTrue\u001b[0m\u001b[0;34m)\u001b[0m\u001b[0;34m\u001b[0m\u001b[0;34m\u001b[0m\u001b[0m\n",
            "\u001b[0;31mKeyboardInterrupt\u001b[0m: Interrupted by user"
          ]
        }
      ]
    }
  ]
}
